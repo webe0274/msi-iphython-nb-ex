{
 "cells": [
  {
   "cell_type": "markdown",
   "metadata": {},
   "source": [
    "IPython Notebook Demo\n",
    "===================\n",
    "\n",
    "Outline\n",
    "-------\n",
    "\n",
    "* Illustrate tunneling in\n",
    "* cells - code + docs\n",
    "  * modify and re-run\n",
    "* command-line shell invocation\n",
    "  * run commands\n",
    "  * capture output\n",
    "  * e.g. capture groupquota -a\n",
    "* plotting - use a matplotlib demo\n",
    "  * one of the GIS demos\n",
    "  * show modify and re-run plotting\n",
    "* show off notebook on github\n",
    "* show nbviewer displaying from public github\n",
    "* show configuring IPython profile to submit PBS jobs with qsub"
   ]
  },
  {
   "cell_type": "markdown",
   "metadata": {},
   "source": [
    "Tunneling\n",
    "---------\n",
    "\n",
    "For running on itasca just chain (ideally with SSH key access)\n",
    "\n",
    "`ssh -L 12123:localhost:12123 (login.msi.umn.edu|itasca)\n",
    "module load python-epd\n",
    "ipython notebook --no-browser --port=12123`\n",
    "\n",
    "This works as many levels deep as we like -- can run on head-node for testing, run on compute node for processing"
   ]
  },
  {
   "cell_type": "markdown",
   "metadata": {},
   "source": [
    "IPython shell and cells\n",
    "--------------\n",
    "\n",
    "Code and documentation live in **cells**\n",
    "\n",
    "Code executed in cells captures results. All code executed in a notebook runs in the same python session."
   ]
  },
  {
   "cell_type": "code",
   "execution_count": 6,
   "metadata": {
    "collapsed": false
   },
   "outputs": [
    {
     "data": {
      "text/plain": [
       "[0, 1, 2, 3, 4, 5, 6, 7, 8, 9, 10, 11, 12, 13, 14, 15, 16, 17, 18, 19]"
      ]
     },
     "execution_count": 6,
     "metadata": {},
     "output_type": "execute_result"
    }
   ],
   "source": [
    "range(20)"
   ]
  },
  {
   "cell_type": "code",
   "execution_count": 8,
   "metadata": {
    "collapsed": false
   },
   "outputs": [
    {
     "data": {
      "text/plain": [
       "80"
      ]
     },
     "execution_count": 8,
     "metadata": {},
     "output_type": "execute_result"
    }
   ],
   "source": [
    "_6[4] * 20"
   ]
  },
  {
   "cell_type": "markdown",
   "metadata": {},
   "source": [
    "Abundance of magic commands automate common tasks."
   ]
  },
  {
   "cell_type": "code",
   "execution_count": 3,
   "metadata": {
    "collapsed": false
   },
   "outputs": [
    {
     "data": {
      "application/json": {
       "cell": {
        "!": "OSMagics",
        "HTML": "Other",
        "SVG": "Other",
        "bash": "Other",
        "capture": "ExecutionMagics",
        "debug": "ExecutionMagics",
        "file": "Other",
        "html": "DisplayMagics",
        "javascript": "DisplayMagics",
        "latex": "DisplayMagics",
        "perl": "Other",
        "prun": "ExecutionMagics",
        "pypy": "Other",
        "python": "Other",
        "python2": "Other",
        "python3": "Other",
        "ruby": "Other",
        "script": "ScriptMagics",
        "sh": "Other",
        "svg": "DisplayMagics",
        "sx": "OSMagics",
        "system": "OSMagics",
        "time": "ExecutionMagics",
        "timeit": "ExecutionMagics",
        "writefile": "OSMagics"
       },
       "line": {
        "alias": "OSMagics",
        "alias_magic": "BasicMagics",
        "autocall": "AutoMagics",
        "automagic": "AutoMagics",
        "autosave": "KernelMagics",
        "bookmark": "OSMagics",
        "cat": "Other",
        "cd": "OSMagics",
        "clear": "KernelMagics",
        "colors": "BasicMagics",
        "config": "ConfigMagics",
        "connect_info": "KernelMagics",
        "cp": "Other",
        "debug": "ExecutionMagics",
        "dhist": "OSMagics",
        "dirs": "OSMagics",
        "doctest_mode": "KernelMagics",
        "ed": "Other",
        "edit": "KernelMagics",
        "env": "OSMagics",
        "gui": "BasicMagics",
        "hist": "Other",
        "history": "HistoryMagics",
        "install_default_config": "DeprecatedMagics",
        "install_ext": "ExtensionMagics",
        "install_profiles": "DeprecatedMagics",
        "killbgscripts": "ScriptMagics",
        "ldir": "Other",
        "less": "KernelMagics",
        "lf": "Other",
        "lk": "Other",
        "ll": "Other",
        "load": "CodeMagics",
        "load_ext": "ExtensionMagics",
        "loadpy": "CodeMagics",
        "logoff": "LoggingMagics",
        "logon": "LoggingMagics",
        "logstart": "LoggingMagics",
        "logstate": "LoggingMagics",
        "logstop": "LoggingMagics",
        "ls": "Other",
        "lsmagic": "BasicMagics",
        "lx": "Other",
        "macro": "ExecutionMagics",
        "magic": "BasicMagics",
        "man": "KernelMagics",
        "matplotlib": "PylabMagics",
        "mkdir": "Other",
        "more": "KernelMagics",
        "mv": "Other",
        "notebook": "BasicMagics",
        "page": "BasicMagics",
        "pastebin": "CodeMagics",
        "pdb": "ExecutionMagics",
        "pdef": "NamespaceMagics",
        "pdoc": "NamespaceMagics",
        "pfile": "NamespaceMagics",
        "pinfo": "NamespaceMagics",
        "pinfo2": "NamespaceMagics",
        "popd": "OSMagics",
        "pprint": "BasicMagics",
        "precision": "BasicMagics",
        "profile": "BasicMagics",
        "prun": "ExecutionMagics",
        "psearch": "NamespaceMagics",
        "psource": "NamespaceMagics",
        "pushd": "OSMagics",
        "pwd": "OSMagics",
        "pycat": "OSMagics",
        "pylab": "PylabMagics",
        "qtconsole": "KernelMagics",
        "quickref": "BasicMagics",
        "recall": "HistoryMagics",
        "rehashx": "OSMagics",
        "reload_ext": "ExtensionMagics",
        "rep": "Other",
        "rerun": "HistoryMagics",
        "reset": "NamespaceMagics",
        "reset_selective": "NamespaceMagics",
        "rm": "Other",
        "rmdir": "Other",
        "run": "ExecutionMagics",
        "save": "CodeMagics",
        "sc": "OSMagics",
        "store": "StoreMagics",
        "sx": "OSMagics",
        "system": "OSMagics",
        "tb": "ExecutionMagics",
        "time": "ExecutionMagics",
        "timeit": "ExecutionMagics",
        "unalias": "OSMagics",
        "unload_ext": "ExtensionMagics",
        "who": "NamespaceMagics",
        "who_ls": "NamespaceMagics",
        "whos": "NamespaceMagics",
        "xdel": "NamespaceMagics",
        "xmode": "BasicMagics"
       }
      },
      "text/plain": [
       "Available line magics:\n",
       "%alias  %alias_magic  %autocall  %automagic  %autosave  %bookmark  %cat  %cd  %clear  %colors  %config  %connect_info  %cp  %debug  %dhist  %dirs  %doctest_mode  %ed  %edit  %env  %gui  %hist  %history  %install_default_config  %install_ext  %install_profiles  %killbgscripts  %ldir  %less  %lf  %lk  %ll  %load  %load_ext  %loadpy  %logoff  %logon  %logstart  %logstate  %logstop  %ls  %lsmagic  %lx  %macro  %magic  %man  %matplotlib  %mkdir  %more  %mv  %notebook  %page  %pastebin  %pdb  %pdef  %pdoc  %pfile  %pinfo  %pinfo2  %popd  %pprint  %precision  %profile  %prun  %psearch  %psource  %pushd  %pwd  %pycat  %pylab  %qtconsole  %quickref  %recall  %rehashx  %reload_ext  %rep  %rerun  %reset  %reset_selective  %rm  %rmdir  %run  %save  %sc  %store  %sx  %system  %tb  %time  %timeit  %unalias  %unload_ext  %who  %who_ls  %whos  %xdel  %xmode\n",
       "\n",
       "Available cell magics:\n",
       "%%!  %%HTML  %%SVG  %%bash  %%capture  %%debug  %%file  %%html  %%javascript  %%latex  %%perl  %%prun  %%pypy  %%python  %%python2  %%python3  %%ruby  %%script  %%sh  %%svg  %%sx  %%system  %%time  %%timeit  %%writefile\n",
       "\n",
       "Automagic is ON, % prefix IS NOT needed for line magics."
      ]
     },
     "execution_count": 3,
     "metadata": {},
     "output_type": "execute_result"
    }
   ],
   "source": [
    "%lsmagic"
   ]
  },
  {
   "cell_type": "code",
   "execution_count": 10,
   "metadata": {
    "collapsed": false
   },
   "outputs": [
    {
     "name": "stdout",
     "output_type": "stream",
     "text": [
      "ipython.o1173016  Monitoring an MPI Simulation - 1.ipynb  pbs_engines\r\n",
      "ipython.o1173018  MSI Examples.ipynb\t\t\t  README.md\r\n"
     ]
    }
   ],
   "source": [
    "!ls"
   ]
  },
  {
   "cell_type": "code",
   "execution_count": 12,
   "metadata": {
    "collapsed": false
   },
   "outputs": [],
   "source": [
    "import numpy as np"
   ]
  },
  {
   "cell_type": "code",
   "execution_count": 8,
   "metadata": {
    "collapsed": false
   },
   "outputs": [
    {
     "data": {
      "text/plain": [
       "9738.9450546092739"
      ]
     },
     "execution_count": 8,
     "metadata": {},
     "output_type": "execute_result"
    }
   ],
   "source": [
    "(np.random.randn(10000)**2).sum()"
   ]
  },
  {
   "cell_type": "code",
   "execution_count": 13,
   "metadata": {
    "collapsed": false
   },
   "outputs": [
    {
     "name": "stdout",
     "output_type": "stream",
     "text": [
      "10 loops, best of 3: 61.6 ms per loop\n"
     ]
    }
   ],
   "source": [
    "%%timeit\n",
    "a = np.random.randn(10**6)**2\n",
    "a.sum()"
   ]
  },
  {
   "cell_type": "markdown",
   "metadata": {},
   "source": [
    "Command-line shell tools\n",
    "---------------"
   ]
  },
  {
   "cell_type": "code",
   "execution_count": 13,
   "metadata": {
    "collapsed": false
   },
   "outputs": [
    {
     "name": "stdout",
     "output_type": "stream",
     "text": [
      "# On branch master\r\n",
      "# Changed but not updated:\r\n",
      "#   (use \"git add <file>...\" to update what will be committed)\r\n",
      "#   (use \"git checkout -- <file>...\" to discard changes in working directory)\r\n",
      "#\r\n",
      "#\tmodified:   MSI Examples.ipynb\r\n",
      "#\r\n",
      "# Untracked files:\r\n",
      "#   (use \"git add <file>...\" to include in what will be committed)\r\n",
      "#\r\n",
      "#\t.ipynb_checkpoints/\r\n",
      "no changes added to commit (use \"git add\" and/or \"git commit -a\")\r\n"
     ]
    }
   ],
   "source": [
    "!git status"
   ]
  },
  {
   "cell_type": "code",
   "execution_count": 14,
   "metadata": {
    "collapsed": false
   },
   "outputs": [
    {
     "data": {
      "text/plain": [
       "['USERNAME | ACTIVE | SECONDARY USER | GBYTES  | FILES     | %BYTES  | %FILES  | GALAXY GBYTES',\n",
       " '--------------------------------------------------------------------------------------------',\n",
       " 'kats     | false  | false          | 1301.52 | 132,838   | 16.8 %  | 3.1 %   | 55.91        ',\n",
       " 'jballer  | true   | false          | 1136.98 | 16,763    | 14.7 %  | 0.4 %   | 1.05         ',\n",
       " 'mknox    | true   | false          | 1011.64 | 261,991   | 13.1 %  | 6.1 %   | --           ',\n",
       " 'yzhang   | true   | false          | 835.42  | 156,516   | 10.8 %  | 3.7 %   | 0.00         ',\n",
       " 'chityala | false  | false          | 715.76  | 1,055,539 | 9.3 %   | 24.7 %  | 0.00         ',\n",
       " 'jgarbe   | true   | true           | 601.03  | 3,877     | 7.8 %   | 0.1 %   | --           ',\n",
       " 'jj       | true   | false          | 427.84  | 969,628   | 5.5 %   | 22.7 %  | 4218.67      ',\n",
       " 'jerdmann | false  | false          | 382.14  | 2,861     | 4.9 %   | 0.1 %   | 131.03       ',\n",
       " 'tnguyen  | true   | false          | 328.60  | 38,013    | 4.3 %   | 0.9 %   | --           ',\n",
       " 'blynch   | true   | false          | 298.31  | 806,116   | 3.9 %   | 18.9 %  | 0.04         ',\n",
       " 'onson001 | true   | true           | 193.73  | 47        | 2.5 %   | 0.0 %   | --           ',\n",
       " 'swartzbr | true   | false          | 170.26  | 178,593   | 2.2 %   | 4.2 %   | --           ',\n",
       " 'rowe     | true   | false          | 149.22  | 120,367   | 1.9 %   | 2.8 %   | 0.00         ',\n",
       " 'tprather | true   | false          | 108.07  | 47,263    | 1.4 %   | 1.1 %   | 0.00         ',\n",
       " 'evan     | true   | false          | 82.71   | 288,373   | 1.1 %   | 6.7 %   | 0.00         ',\n",
       " 'sankara2 | false  | false          | 38.29   | 6,207     | 0.5 %   | 0.1 %   | --           ',\n",
       " 'milligan | true   | false          | 31.64   | 21,669    | 0.4 %   | 0.5 %   | 0.00         ',\n",
       " 'lamblin  | true   | false          | 25.89   | 12,908    | 0.3 %   | 0.3 %   | 511.06       ',\n",
       " 'ljmills  | true   | true           | 25.34   | 35        | 0.3 %   | 0.0 %   | --           ',\n",
       " 'trevor   | true   | false          | 22.28   | 76,400    | 0.3 %   | 1.8 %   | 0.00         ',\n",
       " 'landsj   | false  | false          | 14.28   | 74,541    | 0.2 %   | 1.7 %   | 11.92        ',\n",
       " 'ztu      | false  | false          | 7.72    | 50        | 0.1 %   | 0.0 %   | 30.85        ',\n",
       " 'kreyep   | false  | false          | 5.84    | 33,016    | 0.1 %   | 0.8 %   | 77.98        ',\n",
       " 'joh09029 | false  | false          | 3.79    | 1,240     | 0.0 %   | 0.0 %   | --           ',\n",
       " 'szhang   | false  | false          | 2.55    | 19,052    | 0.0 %   | 0.4 %   | --           ',\n",
       " 'bgottsch | false  | false          | 2.03    | 1,797     | 0.0 %   | 0.0 %   | 0.00         ',\n",
       " 'nlabello | false  | false          | 1.30    | 10,021    | 0.0 %   | 0.2 %   | 0.00         ',\n",
       " 'chilton  | false  | false          | 0.67    | 4,206     | 0.0 %   | 0.1 %   | 500.82       ',\n",
       " 'erdma125 | false  | false          | 0.59    | 164       | 0.0 %   | 0.0 %   | --           ',\n",
       " 'chenzler | true   | true           | 0.00    | 8         | 0.0 %   | 0.0 %   | --           ',\n",
       " 'mcgo0092 | true   | true           | 0.00    | 4         | 0.0 %   | 0.0 %   | --           ',\n",
       " 'jenkins  | true   | true           | 0.00    | 4         | 0.0 %   | 0.0 %   | --           ',\n",
       " 'porter   | true   | true           | 0.00    | 4         | 0.0 %   | 0.0 %   | --           ',\n",
       " 'haide041 | true   | true           | 0.00    | 4         | 0.0 %   | 0.0 %   | --           ',\n",
       " 'msidemo  | false  | false          | 0.00    | 1         | 0.0 %   | 0.0 %   | --           ',\n",
       " 'beksi    | true   | true           | 0.00    | 1         | 0.0 %   | 0.0 %   | --           ',\n",
       " 'chen1580 | false  | false          | 0.00    | 0         | 0.0 %   | 0.0 %   | 0.00         ',\n",
       " 'wxu      | false  | false          | 0.00    | 0         | 0.0 %   | 0.0 %   | 1439.09      ',\n",
       " 'pratik   | false  | false          | 0.00    | 0         | 0.0 %   | 0.0 %   | 0.63         ',\n",
       " 'TOTAL    |        |                | 7729.02 | 4,274,155 | 100.0 % | 100.0 % | 6979.05      ',\n",
       " '--------------------------------------------------------------------------------------------']"
      ]
     },
     "execution_count": 14,
     "metadata": {},
     "output_type": "execute_result"
    }
   ],
   "source": [
    "quotas = !groupquota -a\n",
    "quotas"
   ]
  },
  {
   "cell_type": "code",
   "execution_count": 16,
   "metadata": {
    "collapsed": false
   },
   "outputs": [
    {
     "data": {
      "text/latex": [
       "Yes Evan, you can use MathJax!\n",
       "\\begin{aligned}\n",
       "\\nabla \\times \\vec{\\mathbf{B}} -\\, \\frac1c\\, \\frac{\\partial\\vec{\\mathbf{E}}}{\\partial t} & = \\frac{4\\pi}{c}\\vec{\\mathbf{j}} \\\\\n",
       "\\nabla \\cdot \\vec{\\mathbf{E}} & = 4 \\pi \\rho \\\\\n",
       "\\nabla \\times \\vec{\\mathbf{E}}\\, +\\, \\frac1c\\, \\frac{\\partial\\vec{\\mathbf{B}}}{\\partial t} & = \\vec{\\mathbf{0}} \\\\\n",
       "\\nabla \\cdot \\vec{\\mathbf{B}} & = 0\n",
       "\\end{aligned}"
      ],
      "text/plain": [
       "<IPython.core.display.Latex at 0x22ebad0>"
      ]
     },
     "metadata": {},
     "output_type": "display_data"
    }
   ],
   "source": [
    "%%latex\n",
    "Yes Evan, you can use MathJax!\n",
    "\\begin{aligned}\n",
    "\\nabla \\times \\vec{\\mathbf{B}} -\\, \\frac1c\\, \\frac{\\partial\\vec{\\mathbf{E}}}{\\partial t} & = \\frac{4\\pi}{c}\\vec{\\mathbf{j}} \\\\\n",
    "\\nabla \\cdot \\vec{\\mathbf{E}} & = 4 \\pi \\rho \\\\\n",
    "\\nabla \\times \\vec{\\mathbf{E}}\\, +\\, \\frac1c\\, \\frac{\\partial\\vec{\\mathbf{B}}}{\\partial t} & = \\vec{\\mathbf{0}} \\\\\n",
    "\\nabla \\cdot \\vec{\\mathbf{B}} & = 0\n",
    "\\end{aligned}"
   ]
  },
  {
   "cell_type": "markdown",
   "metadata": {},
   "source": [
    "Plotting\n",
    "--------\n",
    "\n"
   ]
  },
  {
   "cell_type": "code",
   "execution_count": 14,
   "metadata": {
    "collapsed": false
   },
   "outputs": [],
   "source": [
    "%matplotlib inline"
   ]
  },
  {
   "cell_type": "markdown",
   "metadata": {},
   "source": [
    "Now we are set to capture the output of plotting actions in the notebook. By default the plot data is stored along with the notebook, but we can always re-run the cells to refresh the plot."
   ]
  },
  {
   "cell_type": "code",
   "execution_count": 17,
   "metadata": {
    "collapsed": false
   },
   "outputs": [
    {
     "data": {
      "text/plain": [
       "[<matplotlib.lines.Line2D at 0x3f67210>]"
      ]
     },
     "execution_count": 17,
     "metadata": {},
     "output_type": "execute_result"
    },
    {
     "data": {
      "image/png": "[encoded data removed]",
      "text/plain": [
       "<matplotlib.figure.Figure at 0x3771090>"
      ]
     },
     "metadata": {},
     "output_type": "display_data"
    }
   ],
   "source": [
    "import matplotlib.pyplot as plt\n",
    "x = np.linspace(0,4*np.pi,100)\n",
    "y = np.sin(x) + np.random.randn(100)/20\n",
    "plt.plot(x,y,'.')"
   ]
  },
  {
   "cell_type": "code",
   "execution_count": 19,
   "metadata": {
    "collapsed": false
   },
   "outputs": [
    {
     "data": {
      "image/png": "[encoded data removed]",
      "text/plain": [
       "<matplotlib.figure.Figure at 0xa7db6ad0>"
      ]
     },
     "metadata": {},
     "output_type": "display_data"
    }
   ],
   "source": [
    "from mpl_toolkits.basemap import Basemap\n",
    "from netCDF4 import Dataset, date2index\n",
    "import numpy as np\n",
    "import matplotlib.pyplot as plt\n",
    "from datetime import datetime\n",
    "date = datetime(2013,12,15,0) # date to plot.\n",
    "# open dataset.\n",
    "dataset = Dataset('http://www.ncdc.noaa.gov/thredds/dodsC/OISST-V2-AVHRR_agg')\n",
    "timevar = dataset.variables['time']\n",
    "timeindex = date2index(date,timevar) # find time index for desired date.\n",
    "# read sst.  Will automatically create a masked array using\n",
    "# missing_value variable attribute. 'squeeze out' singleton dimensions.\n",
    "sst = dataset.variables['sst'][timeindex,:].squeeze()\n",
    "# read ice.\n",
    "ice = dataset.variables['ice'][timeindex,:].squeeze()\n",
    "# read lats and lons (representing centers of grid boxes).\n",
    "lats = dataset.variables['lat'][:]\n",
    "lons = dataset.variables['lon'][:]\n",
    "lons, lats = np.meshgrid(lons,lats)\n",
    "# create figure, axes instances.\n",
    "fig = plt.figure()\n",
    "ax = fig.add_axes([0.05,0.05,0.9,0.9])\n",
    "# create Basemap instance.\n",
    "# coastlines not used, so resolution set to None to skip\n",
    "# continent processing (this speeds things up a bit)\n",
    "m = Basemap(projection='kav7',lon_0=0,resolution=None)\n",
    "# draw line around map projection limb.\n",
    "# color background of map projection region.\n",
    "# missing values over land will show up this color.\n",
    "m.drawmapboundary(fill_color='0.3')\n",
    "# plot sst, then ice with pcolor\n",
    "im1 = m.pcolormesh(lons,lats,sst,shading='flat',cmap=plt.cm.jet,latlon=True)\n",
    "im2 = m.pcolormesh(lons,lats,ice,shading='flat',cmap=plt.cm.gist_gray,latlon=True)\n",
    "# draw parallels and meridians, but don't bother labelling them.\n",
    "m.drawparallels(np.arange(-90.,99.,30.))\n",
    "m.drawmeridians(np.arange(-180.,180.,60.))\n",
    "# add colorbar\n",
    "cb = m.colorbar(im1,\"bottom\", size=\"5%\", pad=\"2%\")\n",
    "# add a title.\n",
    "ax.set_title('SST and ICE analysis for %s'%date)\n",
    "plt.show()"
   ]
  },
  {
   "cell_type": "markdown",
   "metadata": {},
   "source": [
    "We can also use external graphics -- handy if we want to work with images that another program is generating."
   ]
  },
  {
   "cell_type": "code",
   "execution_count": 27,
   "metadata": {
    "collapsed": false
   },
   "outputs": [
    {
     "data": {
      "text/html": [
       "<img src=\"https://www.msi.umn.edu/sites/all/themes/umn/assets/img/logo_uofm_D2D.gif\"/>"
      ],
      "text/plain": [
       "<IPython.core.display.Image at 0x397996d0>"
      ]
     },
     "execution_count": 27,
     "metadata": {},
     "output_type": "execute_result"
    }
   ],
   "source": [
    "from IPython.display import Image\n",
    "Image(url='https://www.msi.umn.edu/sites/all/themes/umn/assets/img/logo_uofm_D2D.gif')"
   ]
  },
  {
   "cell_type": "markdown",
   "metadata": {},
   "source": [
    "Version control and public display\n",
    "-----------\n",
    "\n",
    "Notebooks use a text representation, amenable to version control.\n",
    "\n",
    "Check this one out in Github: https://github.umn.edu/milligan/msi-ipython-nb-ex\n",
    "\n",
    "If you put the notebook somewhere world-readable, the notebook viewer web interface allows read-only publication:\n",
    "http://nbviewer.ipython.org/github/mbmilligan/msi-ipython-nb-ex/blob/master/MSI%20Examples.ipynb"
   ]
  },
  {
   "cell_type": "markdown",
   "metadata": {},
   "source": [
    "Parallel engines\n",
    "---------------\n",
    "\n",
    "See IPython dashboard tab for available notebooks, cluster profiles, etc\n",
    "\n",
    "We set up an \"itasca\" profile with a PBS script template. This requires a few steps, but only has to be done once.\n",
    "\n",
    "`ipython profile create --parallel itasca`\n",
    "\n",
    "This creates a new profile directory in `~/.ipython/profile_itasca`\n",
    "\n",
    "In that directory there are configuration files for the cluster infrastructure. In `ipcluster_config.py` I set:"
   ]
  },
  {
   "cell_type": "raw",
   "metadata": {},
   "source": [
    "c.IPClusterStart.controller_launcher_class = 'Local'\n",
    "c.IPClusterStart.engine_launcher_class = 'PBS'\n",
    "c.PBSEngineSetLauncher.queue = u'batch'\n",
    "\n",
    "c.PBSEngineSetLauncher.batch_template = \"\"\"\n",
    "#PBS -N ipython\n",
    "#PBS -j oe\n",
    "#PBS -l walltime=01:00:00\n",
    "#PBS -l nodes={n/8}:ppn=8\n",
    "#PBS -q {queue}\n",
    "\n",
    "cd {profile_dir}\n",
    "module load python-epd\n",
    "mpiexec -n {n} ipengine --profile-dir={profile_dir}\n",
    "\"\"\""
   ]
  },
  {
   "cell_type": "markdown",
   "metadata": {},
   "source": [
    "In this configuration, the cluster controller will run alongside my notebook server on the head node, but the engines will be started using PBS and mpiexec. \n",
    "\n",
    "In `ipcontroller_config.py` I set:"
   ]
  },
  {
   "cell_type": "raw",
   "metadata": {},
   "source": [
    "c.HubFactory.ip = u'*'"
   ]
  },
  {
   "cell_type": "markdown",
   "metadata": {},
   "source": [
    "This tells the controller to listen on all interfaces, which should be safe since the headnode doesn't accept outside connections. If we wanted to be safer we could probably set this up such that it only listens for communications from nodes that are part of itasca. Even then, remember that there isn't any user authentication on this socket; in principle another user on itasca could listen in.\n",
    "\n",
    "With that done, we can use the dashboard's Clusters tab to start the newly defined itasca engines."
   ]
  },
  {
   "cell_type": "code",
   "execution_count": 21,
   "metadata": {
    "collapsed": false
   },
   "outputs": [
    {
     "name": "stdout",
     "output_type": "stream",
     "text": [
      "\r\n",
      "node1081.localdomain: \r\n",
      "                                                                                  Req'd    Req'd       Elap\r\n",
      "Job ID                  Username    Queue    Jobname          SessID  NDS   TSK   Memory   Time    S   Time\r\n",
      "----------------------- ----------- -------- ---------------- ------ ----- ------ ------ --------- - ---------\r\n",
      "1173018.node1081.local  milligan    batch    ipython           14562     4     32    --   01:00:00 R  00:43:14\r\n"
     ]
    }
   ],
   "source": [
    "!qstat -u milligan"
   ]
  },
  {
   "cell_type": "code",
   "execution_count": 19,
   "metadata": {
    "collapsed": false
   },
   "outputs": [
    {
     "name": "stdout",
     "output_type": "stream",
     "text": [
      "[0, 1, 2, 3, 4, 5, 6, 7, 8, 9, 10, 11, 12, 13, 14, 15, 16, 17, 18, 19, 20, 21, 22, 23, 24, 25, 26, 27, 28, 29, 30, 31]\n"
     ]
    }
   ],
   "source": [
    "from IPython import parallel\n",
    "clients = parallel.Client(profile=\"itasca\") # lust leave out the profile argument to get the default\n",
    "print clients.ids"
   ]
  },
  {
   "cell_type": "code",
   "execution_count": 20,
   "metadata": {
    "collapsed": false
   },
   "outputs": [
    {
     "data": {
      "text/plain": [
       "\u001b[0;31mOut[0:2]: \u001b[0marray([-1.23828183,  0.32602899])"
      ]
     },
     "metadata": {},
     "output_type": "display_data"
    },
    {
     "data": {
      "text/plain": [
       "\u001b[0;31mOut[1:2]: \u001b[0marray([ 1.85896049, -1.2927187 ])"
      ]
     },
     "metadata": {},
     "output_type": "display_data"
    },
    {
     "data": {
      "text/plain": [
       "\u001b[0;31mOut[2:2]: \u001b[0marray([-0.42273752,  1.12569741])"
      ]
     },
     "metadata": {},
     "output_type": "display_data"
    },
    {
     "data": {
      "text/plain": [
       "\u001b[0;31mOut[3:2]: \u001b[0marray([-2.81817145,  0.15612035])"
      ]
     },
     "metadata": {},
     "output_type": "display_data"
    },
    {
     "data": {
      "text/plain": [
       "\u001b[0;31mOut[4:2]: \u001b[0marray([ 0.38912442+0.94707862j,  0.38912442-0.94707862j])"
      ]
     },
     "metadata": {},
     "output_type": "display_data"
    },
    {
     "data": {
      "text/plain": [
       "\u001b[0;31mOut[5:2]: \u001b[0marray([ 1.73999805, -0.03042708])"
      ]
     },
     "metadata": {},
     "output_type": "display_data"
    },
    {
     "data": {
      "text/plain": [
       "\u001b[0;31mOut[6:2]: \u001b[0marray([-0.07490146+0.84744246j, -0.07490146-0.84744246j])"
      ]
     },
     "metadata": {},
     "output_type": "display_data"
    },
    {
     "data": {
      "text/plain": [
       "\u001b[0;31mOut[7:2]: \u001b[0marray([-0.98787937+0.3949985j, -0.98787937-0.3949985j])"
      ]
     },
     "metadata": {},
     "output_type": "display_data"
    },
    {
     "data": {
      "text/plain": [
       "\u001b[0;31mOut[8:2]: \u001b[0marray([ 1.52444805,  0.14473499])"
      ]
     },
     "metadata": {},
     "output_type": "display_data"
    },
    {
     "data": {
      "text/plain": [
       "\u001b[0;31mOut[9:2]: \u001b[0marray([-0.91832427+0.71093083j, -0.91832427-0.71093083j])"
      ]
     },
     "metadata": {},
     "output_type": "display_data"
    },
    {
     "data": {
      "text/plain": [
       "\u001b[0;31mOut[10:2]: \u001b[0marray([-1.73197107,  0.0532603 ])"
      ]
     },
     "metadata": {},
     "output_type": "display_data"
    },
    {
     "data": {
      "text/plain": [
       "\u001b[0;31mOut[11:2]: \u001b[0marray([-0.63234298,  0.35662109])"
      ]
     },
     "metadata": {},
     "output_type": "display_data"
    },
    {
     "data": {
      "text/plain": [
       "\u001b[0;31mOut[12:2]: \u001b[0marray([-0.65087267,  0.11887212])"
      ]
     },
     "metadata": {},
     "output_type": "display_data"
    },
    {
     "data": {
      "text/plain": [
       "\u001b[0;31mOut[13:2]: \u001b[0marray([-1.81464555,  0.65319432])"
      ]
     },
     "metadata": {},
     "output_type": "display_data"
    },
    {
     "data": {
      "text/plain": [
       "\u001b[0;31mOut[14:2]: \u001b[0marray([ 1.33543795,  0.08128808])"
      ]
     },
     "metadata": {},
     "output_type": "display_data"
    },
    {
     "data": {
      "text/plain": [
       "\u001b[0;31mOut[15:2]: \u001b[0marray([-0.54138563+0.18162899j, -0.54138563-0.18162899j])"
      ]
     },
     "metadata": {},
     "output_type": "display_data"
    },
    {
     "data": {
      "text/plain": [
       "\u001b[0;31mOut[16:2]: \u001b[0marray([-1.65893867, -0.77771344])"
      ]
     },
     "metadata": {},
     "output_type": "display_data"
    },
    {
     "data": {
      "text/plain": [
       "\u001b[0;31mOut[17:2]: \u001b[0marray([-1.19855262, -0.38562693])"
      ]
     },
     "metadata": {},
     "output_type": "display_data"
    },
    {
     "data": {
      "text/plain": [
       "\u001b[0;31mOut[18:2]: \u001b[0marray([-0.47556664+0.77769789j, -0.47556664-0.77769789j])"
      ]
     },
     "metadata": {},
     "output_type": "display_data"
    },
    {
     "data": {
      "text/plain": [
       "\u001b[0;31mOut[19:2]: \u001b[0marray([-0.3321334+0.43182318j, -0.3321334-0.43182318j])"
      ]
     },
     "metadata": {},
     "output_type": "display_data"
    },
    {
     "data": {
      "text/plain": [
       "\u001b[0;31mOut[20:2]: \u001b[0marray([-0.13097169+1.28209681j, -0.13097169-1.28209681j])"
      ]
     },
     "metadata": {},
     "output_type": "display_data"
    },
    {
     "data": {
      "text/plain": [
       "\u001b[0;31mOut[21:2]: \u001b[0marray([-0.11605382,  2.32543048])"
      ]
     },
     "metadata": {},
     "output_type": "display_data"
    },
    {
     "data": {
      "text/plain": [
       "\u001b[0;31mOut[22:2]: \u001b[0marray([-1.42649208,  0.04683155])"
      ]
     },
     "metadata": {},
     "output_type": "display_data"
    },
    {
     "data": {
      "text/plain": [
       "\u001b[0;31mOut[23:2]: \u001b[0marray([ 1.95564604, -0.32200787])"
      ]
     },
     "metadata": {},
     "output_type": "display_data"
    },
    {
     "data": {
      "text/plain": [
       "\u001b[0;31mOut[24:2]: \u001b[0marray([-0.55882193,  1.38235113])"
      ]
     },
     "metadata": {},
     "output_type": "display_data"
    },
    {
     "data": {
      "text/plain": [
       "\u001b[0;31mOut[25:2]: \u001b[0marray([ 0.50955738, -0.45085802])"
      ]
     },
     "metadata": {},
     "output_type": "display_data"
    },
    {
     "data": {
      "text/plain": [
       "\u001b[0;31mOut[26:2]: \u001b[0marray([ 0.06388522, -2.38035709])"
      ]
     },
     "metadata": {},
     "output_type": "display_data"
    },
    {
     "data": {
      "text/plain": [
       "\u001b[0;31mOut[27:2]: \u001b[0marray([-1.21319699, -0.01249812])"
      ]
     },
     "metadata": {},
     "output_type": "display_data"
    },
    {
     "data": {
      "text/plain": [
       "\u001b[0;31mOut[28:2]: \u001b[0marray([-0.34481051+0.69278978j, -0.34481051-0.69278978j])"
      ]
     },
     "metadata": {},
     "output_type": "display_data"
    },
    {
     "data": {
      "text/plain": [
       "\u001b[0;31mOut[29:2]: \u001b[0marray([-1.03354389, -0.33060661])"
      ]
     },
     "metadata": {},
     "output_type": "display_data"
    },
    {
     "data": {
      "text/plain": [
       "\u001b[0;31mOut[30:2]: \u001b[0marray([ 1.16148094, -1.0178418 ])"
      ]
     },
     "metadata": {},
     "output_type": "display_data"
    },
    {
     "data": {
      "text/plain": [
       "\u001b[0;31mOut[31:2]: \u001b[0marray([-0.23608131+0.75300971j, -0.23608131-0.75300971j])"
      ]
     },
     "metadata": {},
     "output_type": "display_data"
    }
   ],
   "source": [
    "%%px\n",
    "import numpy as np\n",
    "a = np.random.randn(2,2)\n",
    "np.linalg.eigvals(a)"
   ]
  },
  {
   "cell_type": "code",
   "execution_count": 23,
   "metadata": {
    "collapsed": false
   },
   "outputs": [
    {
     "name": "stdout",
     "output_type": "stream",
     "text": [
      "  PID TTY      STAT   TIME COMMAND\n",
      " 3100 pts/2    Rs+    0:00 ps xw\n",
      " 9887 ?        S      0:00 sshd: milligan@pts/66\n",
      " 9888 pts/66   Ss     0:00 -bash\n",
      "10583 pts/66   Sl     0:31 /soft/python-epd/canopy-1.4.1/bin/python /soft/python-epd/canopy-1.4.1/bin/ipython notebook --no-browser\n",
      "10615 pts/66   Sl     0:07 /soft/python-epd/canopy-1.4.1/bin/python -c from IPython.kernel.zmq.kernelapp import main; main() -f /pan\n",
      "13145 pts/66   Sl     0:00 /soft/python-epd/canopy-1.4.1/bin/python -c from IPython.kernel.zmq.kernelapp import main; main() -f /pan\n",
      "16108 ?        Ss     0:00 SCREEN\n",
      "16109 pts/40   Ss+    0:00 /bin/bash\n",
      "20800 pts/66   S+     0:00 vim ipcluster_config.py\n"
     ]
    }
   ],
   "source": [
    "!ps xw"
   ]
  },
  {
   "cell_type": "code",
   "execution_count": null,
   "metadata": {
    "collapsed": false
   },
   "outputs": [],
   "source": []
  }
 ],
 "metadata": {
  "kernelspec": {
   "display_name": "Python 2",
   "language": "python",
   "name": "python2"
  },
  "language_info": {
   "codemirror_mode": {
    "name": "ipython",
    "version": 2
   },
   "file_extension": ".py",
   "mimetype": "text/x-python",
   "name": "python",
   "nbconvert_exporter": "python",
   "pygments_lexer": "ipython2",
   "version": "2.7.6"
  }
 },
 "nbformat": 4,
 "nbformat_minor": 0
}
