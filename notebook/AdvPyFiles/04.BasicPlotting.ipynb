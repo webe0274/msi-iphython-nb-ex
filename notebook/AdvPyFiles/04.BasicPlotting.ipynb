{
 "cells": [
  {
   "cell_type": "markdown",
   "metadata": {},
   "source": [
    "# Basic Plotting with Matplotlib and Pylab\n",
    "\n",
    "``Matplotlib`` provides high-quality 2-D (and some 3-D) plotting capabilities\n",
    "\n",
    "* Display in a window or output to PDF,PNG,etc files\n",
    "* Modular, object-oriented API\n",
    "\n",
    "``Pylab`` provides a Matlab-ish interactive interface to Matplotlib\n",
    "\n",
    "* ``%pylab`` magic command loads it from ipython\n",
    "* Default is to pop up plots in a separate window\n",
    "* ``%pylab inline`` will place plots in the page from the notebook\n",
    "* ``from pylab import *`` if you want to use these functions in a script"
   ]
  },
  {
   "cell_type": "code",
   "execution_count": 1,
   "metadata": {
    "collapsed": false
   },
   "outputs": [
    {
     "name": "stdout",
     "output_type": "stream",
     "text": [
      "Populating the interactive namespace from numpy and matplotlib\n"
     ]
    }
   ],
   "source": [
    "%pylab inline"
   ]
  },
  {
   "cell_type": "markdown",
   "metadata": {},
   "source": [
    "Make a basic line plot of a function:"
   ]
  },
  {
   "cell_type": "code",
   "execution_count": 36,
   "metadata": {
    "collapsed": false
   },
   "outputs": [
    {
     "ename": "ImportError",
     "evalue": "No module named seaborn",
     "output_type": "error",
     "traceback": [
      "\u001b[1;31m---------------------------------------------------------------------------\u001b[0m",
      "\u001b[1;31mImportError\u001b[0m                               Traceback (most recent call last)",
      "\u001b[1;32m<ipython-input-36-ed9806ce3570>\u001b[0m in \u001b[0;36m<module>\u001b[1;34m()\u001b[0m\n\u001b[1;32m----> 1\u001b[1;33m \u001b[1;32mimport\u001b[0m \u001b[0mseaborn\u001b[0m \u001b[1;32mas\u001b[0m \u001b[0msns\u001b[0m\u001b[1;33m\u001b[0m\u001b[0m\n\u001b[0m",
      "\u001b[1;31mImportError\u001b[0m: No module named seaborn"
     ]
    }
   ],
   "source": [
    "import seaborn as sns"
   ]
  },
  {
   "cell_type": "code",
   "execution_count": 13,
   "metadata": {
    "collapsed": false
   },
   "outputs": [
    {
     "data": {
      "text/plain": [
       "([<matplotlib.axis.XTick at 0x58f06d0>,\n",
       "  <matplotlib.axis.XTick at 0x588d150>,\n",
       "  <matplotlib.axis.XTick at 0x5432890>,\n",
       "  <matplotlib.axis.XTick at 0x56d3a50>,\n",
       "  <matplotlib.axis.XTick at 0x56d3510>,\n",
       "  <matplotlib.axis.XTick at 0x589d790>,\n",
       "  <matplotlib.axis.XTick at 0x589d8d0>,\n",
       "  <matplotlib.axis.XTick at 0x5433590>],\n",
       " <a list of 8 Text xticklabel objects>)"
      ]
     },
     "execution_count": 13,
     "metadata": {},
     "output_type": "execute_result"
    },
    {
     "data": {
      "image/png": "[encoded data removed]",
      "text/plain": [
       "<matplotlib.figure.Figure at 0x521eb10>"
      ]
     },
     "metadata": {},
     "output_type": "display_data"
    }
   ],
   "source": [
    "x = np.linspace(0,2*np.pi,100)\n",
    "plot(x, np.sin(x) - np.sqrt(x), color='green')\n",
    "title(\"My fancy plot\")\n",
    "xlabel('numbers')\n",
    "ylabel('math is done')\n",
    "plot(x[::20], x[::20] - 3, 'rx')\n",
    "xlim(0,2*np.pi)\n",
    "xticks(np.linspace(0,2*np.pi,8))"
   ]
  },
  {
   "cell_type": "code",
   "execution_count": null,
   "metadata": {
    "collapsed": true
   },
   "outputs": [],
   "source": []
  },
  {
   "cell_type": "markdown",
   "metadata": {},
   "source": [
    "In addition to the plot, a ``Line2D`` object is returned. You can use the Matplotlib object-oriented API to modify the line or access the data points.\n",
    "\n",
    "Use the ``random`` module to create an array of Gaussian random numbers, then plot a histogram."
   ]
  },
  {
   "cell_type": "code",
   "execution_count": 34,
   "metadata": {
    "collapsed": false
   },
   "outputs": [
    {
     "data": {
      "image/png": "[encoded data removed]",
      "text/plain": [
       "<matplotlib.figure.Figure at 0x66a4ad0>"
      ]
     },
     "metadata": {},
     "output_type": "display_data"
    }
   ],
   "source": [
    "t = np.random.randn(10000)\n",
    "x, y, p = hist(t, 15)\n",
    "for i, patch in enumerate(p):\n",
    "    if i % 2 == 0:\n",
    "        patch.set_facecolor('red')\n",
    "    else:\n",
    "        patch.set_facecolor('green')\n",
    "show()"
   ]
  },
  {
   "cell_type": "code",
   "execution_count": 25,
   "metadata": {
    "collapsed": false
   },
   "outputs": [],
   "source": [
    "r = p[0]"
   ]
  },
  {
   "cell_type": "code",
   "execution_count": 26,
   "metadata": {
    "collapsed": true
   },
   "outputs": [],
   "source": [
    "r."
   ]
  },
  {
   "cell_type": "code",
   "execution_count": 27,
   "metadata": {
    "collapsed": true
   },
   "outputs": [],
   "source": [
    "show()"
   ]
  },
  {
   "cell_type": "markdown",
   "metadata": {},
   "source": [
    "Besides getting the ``Patch`` objects (one for each rectangle drawn), this function also returns the bin locations and heights as a convenience."
   ]
  },
  {
   "cell_type": "code",
   "execution_count": 15,
   "metadata": {
    "collapsed": false
   },
   "outputs": [
    {
     "data": {
      "text/plain": [
       "(array([   9,   41,  132,  344,  714, 1276, 1803, 1898, 1612, 1164,  617,\n",
       "         262,  104,   19,    5]),\n",
       " array([-3.54190123, -3.06258918, -2.58327714, -2.10396509, -1.62465304,\n",
       "        -1.145341  , -0.66602895, -0.18671691,  0.29259514,  0.77190718,\n",
       "         1.25121923,  1.73053127,  2.20984332,  2.68915537,  3.16846741,\n",
       "         3.64777946]))"
      ]
     },
     "execution_count": 15,
     "metadata": {},
     "output_type": "execute_result"
    }
   ],
   "source": [
    "np.histogram(t, 15)"
   ]
  },
  {
   "cell_type": "code",
   "execution_count": null,
   "metadata": {
    "collapsed": true
   },
   "outputs": [],
   "source": []
  }
 ],
 "metadata": {
  "kernelspec": {
   "display_name": "Python 2",
   "language": "python",
   "name": "python2"
  },
  "language_info": {
   "codemirror_mode": {
    "name": "ipython",
    "version": 2
   },
   "file_extension": ".py",
   "mimetype": "text/x-python",
   "name": "python",
   "nbconvert_exporter": "python",
   "pygments_lexer": "ipython2",
   "version": "2.7.6"
  }
 },
 "nbformat": 4,
 "nbformat_minor": 0
}
